{
 "cells": [
  {
   "cell_type": "markdown",
   "metadata": {},
   "source": [
    "- Env:\n",
    "    - ```ICX```\n",
    "    - pt-39-4\n",
    "    - run_generation-2.py \n",
    "- Demo:\n",
    "    - pytorch profiler\n",
    "    - onednn_verbose\n",
    "```code\n",
    " ---------- Summary: ----------\n",
    "Inference latency: 6.722 sec.\n",
    "First token average latency: 0.509 sec.\n",
    "Average 2... latency: 0.200 sec.\n",
    "P90 2... latency: 0.372 sec.\n",
    "P99 2... latency: 0.561 sec.\n",
    "====================\n",
    "prim_kind      impl          ncalls  time(ms)   overall%  agg_ncalls(avg)  agg_time(ms)  agg_overall%\n",
    "inner_product  x64:gemm:jit  81965   110572.86  99.41     81965.00         110572.86     99.41\n",
    "reorder        jit:uni       169     659.75     0.59      41067.00         111232.60     100.00\n",
    "```"
   ]
  },
  {
   "cell_type": "code",
   "execution_count": 1,
   "metadata": {},
   "outputs": [],
   "source": [
    "!ONEDNN_VERBOSE=1 python run_generation-2.py --device cpu --input-tokens=32 --max-new-tokens 32 \\\n",
    "    --num-iter=15 --num-warmup=5 --batch-size=1 -m EleutherAI/gpt-j-6b \\\n",
    "    --jit --ipex --token-latency --dtype bfloat16 --profile > /tmp/gptj-prof_1.log 2>/dev/null"
   ]
  },
  {
   "cell_type": "code",
   "execution_count": 2,
   "metadata": {},
   "outputs": [
    {
     "name": "stdout",
     "output_type": "stream",
     "text": [
      "['Once upon a time, there existed a little girl, who liked to have adventures. She wanted to go to places and meet new people, and have fun. One day, she decided to go on an adventure. She packed her bags, and set off on her journey.\\n\\nThe little girl walked and walked,'] [32]\n",
      "Iteration: 14, Time: 5.651919 sec\n",
      "\n",
      " ---------- Summary: ----------\n",
      "Inference latency: 6.722 sec.\n",
      "First token average latency: 0.509 sec.\n",
      "Average 2... latency: 0.200 sec.\n",
      "P90 2... latency: 0.372 sec.\n",
      "P99 2... latency: 0.561 sec.\n",
      "-------------------------------------------------------  ------------  ------------  ------------  ------------  ------------  ------------  \n",
      "                                                   Name    Self CPU %      Self CPU   CPU total %     CPU total  CPU time avg    # of Calls  \n",
      "-------------------------------------------------------  ------------  ------------  ------------  ------------  ------------  ------------  \n",
      "                               ipex_prepack::linear_run        54.32%       66.910s        54.52%       67.161s       1.241ms         54127  \n",
      "                                torch_ipex::ipex_linear        17.16%       21.142s        17.17%       21.154s      20.638ms          1025  \n",
      "                          ipex_prepack::linear_gelu_run        13.53%       16.666s        13.60%       16.754s       1.249ms         13412  \n",
      "                           ipex_prepack::linear_add_run         8.01%        9.863s         8.03%        9.895s     737.750us         13412  \n",
      "                                            aten::fill_         1.31%        1.612s         1.31%        1.612s      16.686us         96613  \n",
      "                                                forward         1.01%        1.241s        87.96%      108.344s     224.780ms           482  \n",
      "                                             aten::topk         0.53%     653.939ms         0.53%     653.939ms       1.357ms           482  \n",
      "               ipex::iakv_sdp::reduction_private_result         0.42%     513.662ms         0.42%     513.662ms      39.452us         13020  \n",
      "                                aten::native_layer_norm         0.36%     442.656ms         0.38%     465.085ms      34.233us         13586  \n",
      "                                              aten::add         0.35%     433.800ms         0.35%     433.809ms      14.551us         29813  \n",
      "-------------------------------------------------------  ------------  ------------  ------------  ------------  ------------  ------------  \n",
      "Self CPU time total: 123.180s\n",
      "\n"
     ]
    },
    {
     "name": "stdout",
     "output_type": "stream",
     "text": [
      "====================\n",
      "prim_kind      impl          ncalls  time(ms)   overall%  agg_ncalls(avg)  agg_time(ms)  agg_overall%\n",
      "inner_product  x64:gemm:jit  81965   110572.86  99.41     81965.00         110572.86     99.41\n",
      "reorder        jit:uni       169     659.75     0.59      41067.00         111232.60     100.00\n"
     ]
    }
   ],
   "source": [
    "!tail -n 25 /tmp/gptj-prof_1.log \n",
    "!echo ====================\n",
    "!/home/taosy/repo/github/oneDNN/scripts/verbose_converter/verbose_converter.py -i /tmp/gptj-prof_1.log  -g breakdown -k prim_kind  impl | column -t -s,"
   ]
  }
 ],
 "metadata": {
  "kernelspec": {
   "display_name": "pt-39-4",
   "language": "python",
   "name": "python3"
  },
  "language_info": {
   "codemirror_mode": {
    "name": "ipython",
    "version": 3
   },
   "file_extension": ".py",
   "mimetype": "text/x-python",
   "name": "python",
   "nbconvert_exporter": "python",
   "pygments_lexer": "ipython3",
   "version": "3.9.16"
  },
  "orig_nbformat": 4
 },
 "nbformat": 4,
 "nbformat_minor": 2
}
