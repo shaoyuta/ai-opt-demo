{
 "cells": [
  {
   "cell_type": "markdown",
   "metadata": {},
   "source": [
    "- Env: py-39-2: 不能够运行  --jit --ipex，因此，不使用之\n",
    "    - innersource-ipex : 2.1.0+git9608313\n",
    "    - pip 4.28.1 \n",
    "```\n",
    " ---------- Summary: ----------\n",
    "Inference latency: 14.924 sec.\n",
    "====================\n",
    "prim_kind  impl      ncalls  time(ms)   overall%  agg_ncalls(avg)  agg_time(ms)  agg_overall%\n",
    "matmul     gemm:jit  108000  216442.62  100.00    108000.00        216442.62     100.00\n",
    "```"
   ]
  },
  {
   "cell_type": "code",
   "execution_count": 5,
   "metadata": {},
   "outputs": [],
   "source": [
    "!ONEDNN_VERBOSE=1 python run_generation.py --device cpu --input-tokens=32 --max-new-tokens 32 \\\n",
    "    --num-iter=15 --num-warmup=5 --batch-size=1 -m EleutherAI/gpt-j-6b \\\n",
    "    --dtype bfloat16 > /tmp/gptj-2.log 2>/dev/null"
   ]
  },
  {
   "cell_type": "code",
   "execution_count": 8,
   "metadata": {},
   "outputs": [
    {
     "name": "stdout",
     "output_type": "stream",
     "text": [
      "['Once upon a time, there existed a little girl, who liked to have adventures. She wanted to go to places and meet new people, and have fun. One day, she decided to go on an adventure. She packed her bags, and set off on her journey.\\n\\nThe little girl walked and walked,'] [32]\n",
      "Iteration: 14, Time: 13.725374 sec\n",
      "\n",
      " ---------- Summary: ----------\n",
      "Inference latency: 14.924 sec.\n"
     ]
    },
    {
     "name": "stdout",
     "output_type": "stream",
     "text": [
      "====================\n",
      "prim_kind  impl      ncalls  time(ms)   overall%  agg_ncalls(avg)  agg_time(ms)  agg_overall%\n",
      "matmul     gemm:jit  108000  216442.62  100.00    108000.00        216442.62     100.00\n"
     ]
    }
   ],
   "source": [
    "!tail -n 5 /tmp/gptj-2.log\n",
    "!echo ====================\n",
    "!/home/taosy/repo/github/oneDNN/scripts/verbose_converter/verbose_converter.py -i /tmp/gptj-2.log -g breakdown -k prim_kind  impl | column -t -s,"
   ]
  },
  {
   "cell_type": "code",
   "execution_count": 6,
   "metadata": {},
   "outputs": [],
   "source": [
    "!ONEDNN_VERBOSE=1 python run_generation-2.py --device cpu --input-tokens=32 --max-new-tokens 32 \\\n",
    "    --num-iter=15 --num-warmup=5 --batch-size=1 -m EleutherAI/gpt-j-6b \\\n",
    "    --dtype bfloat16 --profile > /tmp/gptj-prof_2.log 2>/dev/null"
   ]
  },
  {
   "cell_type": "code",
   "execution_count": 7,
   "metadata": {},
   "outputs": [
    {
     "name": "stdout",
     "output_type": "stream",
     "text": [
      "onednn_verbose,exec,cpu,matmul,gemm:jit,undef,src_bf16::blocked:ab:f0 wei_bf16::blocked:ab:f0 dst_bf16::blocked:ab:f0,attr-scratchpad:user ,,4x4096:4096x4096:4x4096,0.712891\n",
      "onednn_verbose,exec,cpu,matmul,gemm:jit,undef,src_bf16::blocked:ab:f0 wei_bf16::blocked:ab:f0 dst_bf16::blocked:ab:f0,attr-scratchpad:user attr-post-ops:sum ,,4x4096:4096x16384:4x16384,2.04321\n",
      "onednn_verbose,exec,cpu,matmul,gemm:jit,undef,src_bf16::blocked:ab:f0 wei_bf16::blocked:ab:f0 dst_bf16::blocked:ab:f0,attr-scratchpad:user attr-post-ops:sum ,,4x16384:16384x4096:4x4096,3.08203\n",
      "onednn_verbose,exec,cpu,matmul,gemm:jit,undef,src_bf16::blocked:ab:f0 wei_bf16::blocked:ab:f0 dst_bf16::blocked:ab:f0,attr-scratchpad:user attr-post-ops:sum ,,4x4096:4096x50400:4x50400,5.94385\n",
      "['Once upon a time, there existed a little girl, who liked to have adventures. She wanted to go to places and meet new people, and have fun. One day, she decided to go on an adventure. She packed her bags, and set off on her journey.\\n\\nThe little girl walked and walked,'] [32]\n",
      "Iteration: 14, Time: 14.428272 sec\n",
      "\n",
      " ---------- Summary: ----------\n",
      "Inference latency: 14.861 sec.\n",
      "-----------------------------  ------------  ------------  ------------  ------------  ------------  ------------  \n",
      "                         Name    Self CPU %      Self CPU   CPU total %     CPU total  CPU time avg    # of Calls  \n",
      "-----------------------------  ------------  ------------  ------------  ------------  ------------  ------------  \n",
      "                  aten::addmm        53.23%      125.495s        53.55%      126.244s       4.614ms         27360  \n",
      "                     aten::mm        31.24%       73.653s        31.24%       73.653s       1.370ms         53760  \n",
      "           aten::index_select         2.45%        5.766s         2.50%        5.884s     215.062us         27360  \n",
      "                    aten::cat         1.74%        4.107s         2.26%        5.323s      49.165us        108273  \n",
      "                  aten::copy_         1.71%        4.027s         1.71%        4.027s      14.374us        280170  \n",
      "                    aten::bmm         1.29%        3.051s         1.29%        3.051s     113.514us         26880  \n",
      "                    aten::mul         1.16%        2.739s         1.76%        4.142s      38.355us        108000  \n",
      "                 aten::linear         0.95%        2.246s        86.66%      204.304s       2.477ms         82491  \n",
      "                    aten::add         0.87%        2.062s         0.90%        2.121s      21.980us         96480  \n",
      "                  aten::slice         0.49%        1.162s         0.50%        1.184s       1.507us        785295  \n",
      "-----------------------------  ------------  ------------  ------------  ------------  ------------  ------------  \n",
      "Self CPU time total: 235.765s\n",
      "\n"
     ]
    },
    {
     "name": "stdout",
     "output_type": "stream",
     "text": [
      "====================\n",
      "prim_kind  impl      ncalls  time(ms)   overall%  agg_ncalls(avg)  agg_time(ms)  agg_overall%\n",
      "matmul     gemm:jit  108000  193801.48  100.00    108000.00        193801.48     100.00\n"
     ]
    }
   ],
   "source": [
    "!tail -n 25 /tmp/gptj-prof_2.log \n",
    "!echo ====================\n",
    "!/home/taosy/repo/github/oneDNN/scripts/verbose_converter/verbose_converter.py -i /tmp/gptj-prof_2.log  -g breakdown -k prim_kind  impl | column -t -s,"
   ]
  },
  {
   "cell_type": "code",
   "execution_count": 9,
   "metadata": {},
   "outputs": [],
   "source": [
    "!ONEDNN_VERBOSE=1 python run_generation-2.py --device cpu --input-tokens=32 --max-new-tokens 32 \\\n",
    "    --num-iter=15 --num-warmup=5 --batch-size=1 -m EleutherAI/gpt-j-6b \\\n",
    "    --ipex --dtype bfloat16 --profile > /tmp/gptj-prof_3.log 2>/dev/null"
   ]
  },
  {
   "cell_type": "code",
   "execution_count": 10,
   "metadata": {},
   "outputs": [
    {
     "name": "stdout",
     "output_type": "stream",
     "text": [
      "onednn_verbose,exec,cpu,inner_product,x64:gemm:jit,forward_training,src_bf16::blocked:ab::f0 wei_bf16::blocked:ba::f0 bia_undef::undef::: dst_bf16::blocked:ab::f0,attr-scratchpad:user ,,mb4ic4096oc4096,0.498047\n",
      "onednn_verbose,exec,cpu,inner_product,x64:gemm:jit,forward_training,src_bf16::blocked:ab::f0 wei_bf16::blocked:ab::f0 bia_bf16::blocked:a::f0 dst_bf16::blocked:ab::f0,attr-scratchpad:user ,,mb4ic4096oc16384,1.06714\n",
      "onednn_verbose,exec,cpu,inner_product,x64:gemm:jit,forward_training,src_bf16::blocked:ab::f0 wei_bf16::blocked:ba::f0 bia_bf16::blocked:a::f0 dst_bf16::blocked:ab::f0,attr-scratchpad:user ,,mb4ic16384oc4096,2.01001\n",
      "onednn_verbose,exec,cpu,inner_product,x64:gemm:jit,forward_training,src_bf16::blocked:ab::f0 wei_bf16::blocked:ba::f0 bia_bf16::blocked:a::f0 dst_bf16::blocked:ab::f0,attr-scratchpad:user ,,mb4ic4096oc50400,4.56104\n",
      "['Once upon a time, there existed a little girl, who liked to have adventures. She wanted to go to places and meet new people, and have fun. One day, she decided to go on an adventure. She packed her bags, and set off on her journey.\\n\\nThe little girl walked and walked,'] [32]\n",
      "Iteration: 14, Time: 10.741833 sec\n",
      "\n",
      " ---------- Summary: ----------\n",
      "Inference latency: 11.362 sec.\n",
      "---------------------------------  ------------  ------------  ------------  ------------  ------------  ------------  \n",
      "                             Name    Self CPU %      Self CPU   CPU total %     CPU total  CPU time avg    # of Calls  \n",
      "---------------------------------  ------------  ------------  ------------  ------------  ------------  ------------  \n",
      "          torch_ipex::ipex_linear        78.96%      154.938s        79.54%      156.077s       1.924ms         81120  \n",
      "          torch_ipex::cat_out_cpu         8.24%       16.162s         8.51%       16.691s     206.671us         80760  \n",
      "                        aten::bmm         1.65%        3.240s         1.65%        3.241s     120.562us         26880  \n",
      "                      aten::copy_         1.65%        3.232s         1.65%        3.232s      12.743us        253650  \n",
      "    torch_ipex::index_select_cpu_         1.24%        2.440s         1.28%        2.513s      91.849us         27360  \n",
      "                        aten::mul         1.00%        1.956s         1.60%        3.132s      28.999us        108000  \n",
      "              torch_ipex::cat_cpu         0.80%        1.563s         8.58%       16.836s     208.468us         80760  \n",
      "                        aten::add         0.79%        1.549s         0.82%        1.602s      16.605us         96480  \n",
      "                      aten::empty         0.68%        1.333s         0.68%        1.333s       3.135us        425250  \n",
      "                      aten::slice         0.48%     940.511ms         0.49%     959.503ms       1.312us        731535  \n",
      "---------------------------------  ------------  ------------  ------------  ------------  ------------  ------------  \n",
      "Self CPU time total: 196.231s\n",
      "\n",
      "====================\n",
      "prim_kind      impl          ncalls  time(ms)   overall%  agg_ncalls(avg)  agg_time(ms)  agg_overall%\n",
      "inner_product  x64:gemm:jit  81120   140926.46  98.31     81120.00         140926.46     98.31\n",
      "matmul         gemm:jit      26880   1729.07    1.21      54000.00         142655.53     99.51\n",
      "reorder        jit:uni       169     697.06     0.49      36056.33         143352.58     100.00\n"
     ]
    }
   ],
   "source": [
    "!tail -n 25 /tmp/gptj-prof_3.log \n",
    "!echo ====================\n",
    "!/home/taosy/repo/github/oneDNN/scripts/verbose_converter/verbose_converter.py -i /tmp/gptj-prof_3.log  -g breakdown -k prim_kind  impl | column -t -s,"
   ]
  }
 ],
 "metadata": {
  "kernelspec": {
   "display_name": "pt-39-2",
   "language": "python",
   "name": "python3"
  },
  "language_info": {
   "codemirror_mode": {
    "name": "ipython",
    "version": 3
   },
   "file_extension": ".py",
   "mimetype": "text/x-python",
   "name": "python",
   "nbconvert_exporter": "python",
   "pygments_lexer": "ipython3",
   "version": "3.9.16"
  },
  "orig_nbformat": 4
 },
 "nbformat": 4,
 "nbformat_minor": 2
}
