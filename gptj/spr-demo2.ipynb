{
 "cells": [
  {
   "cell_type": "markdown",
   "metadata": {},
   "source": [
    "- Env:\n",
    "    - ```SPR```\n",
    "    - pt-39-4\n",
    "    - run_generation-2.py\n",
    "- Demo:\n",
    "    - Performance\n",
    "    - PyTorch profiler + onednn_verbose\n",
    "    - SPR > ICX"
   ]
  },
  {
   "cell_type": "code",
   "execution_count": 6,
   "metadata": {},
   "outputs": [],
   "source": [
    "!ONEDNN_VERBOSE=1 TRANSFORMERS_OFFLINE=1 python run_generation-2.py --device cpu --input-tokens=32 --max-new-tokens 32 \\\n",
    "    --num-iter=15 --num-warmup=5 --batch-size=1 -m EleutherAI/gpt-j-6b \\\n",
    "    --jit --ipex --token-latency --dtype bfloat16 --profile > /tmp/gptj-prof_1.log 2>/dev/null"
   ]
  },
  {
   "cell_type": "code",
   "execution_count": 7,
   "metadata": {},
   "outputs": [
    {
     "name": "stdout",
     "output_type": "stream",
     "text": [
      "['Once upon a time, there existed a little girl, who liked to have adventures. She wanted to go to places and meet new people, and have fun. One day, she decided to go on an adventure. She packed her bags, and set off on her journey.\\n\\nThe little girl walked and walked,'] [32]\n",
      "Iteration: 14, Time: 2.684104 sec\n",
      "\n",
      " ---------- Summary: ----------\n",
      "Inference latency: 2.632 sec.\n",
      "First token average latency: 0.086 sec.\n",
      "Average 2... latency: 0.082 sec.\n",
      "P90 2... latency: 0.085 sec.\n",
      "P99 2... latency: 0.107 sec.\n",
      "-------------------------------------------------------  ------------  ------------  ------------  ------------  ------------  ------------  \n",
      "                                                   Name    Self CPU %      Self CPU   CPU total %     CPU total  CPU time avg    # of Calls  \n",
      "-------------------------------------------------------  ------------  ------------  ------------  ------------  ------------  ------------  \n",
      "                               ipex_prepack::linear_run        49.10%       19.479s        49.43%       19.612s     362.329us         54127  \n",
      "                          ipex_prepack::linear_gelu_run        15.93%        6.321s        16.00%        6.348s     473.342us         13412  \n",
      "                           ipex_prepack::linear_add_run         7.82%        3.101s         7.86%        3.118s     232.441us         13412  \n",
      "                                            aten::fill_         7.72%        3.063s         7.72%        3.063s      31.705us         96613  \n",
      "               ipex::iakv_sdp::reduction_private_result         2.02%     799.615ms         2.02%     799.615ms      61.414us         13020  \n",
      "                                                forward         1.93%     766.363ms        96.20%       38.166s      79.183ms           482  \n",
      "                        ipex::rotary_position_embedding         1.93%     764.790ms         1.93%     764.790ms      28.159us         27160  \n",
      "                                torch_ipex::ipex_linear         1.82%     723.933ms         2.12%     839.377ms     632.537us          1327  \n",
      "                     ipex::iakv_sdp::matmul(query, key)         1.54%     609.069ms         1.54%     609.069ms      46.779us         13020  \n",
      "                                aten::native_layer_norm         1.42%     562.943ms         1.45%     575.706ms      42.375us         13586  \n",
      "-------------------------------------------------------  ------------  ------------  ------------  ------------  ------------  ------------  \n",
      "Self CPU time total: 39.674s\n",
      "\n",
      "====================\n",
      "prim_kind      impl                    ncalls  time(ms)  overall%  agg_ncalls(avg)  agg_time(ms)  agg_overall%\n",
      "inner_product  brgemm:avx512_core_amx  81965   26886.29  92.59     81965.00         26886.29      92.59\n",
      "reorder        jit:uni                 169     2152.54   7.41      41067.00         29038.83      100.00\n"
     ]
    }
   ],
   "source": [
    "!tail -n 25 /tmp/gptj-prof_1.log \n",
    "!echo ====================\n",
    "!/home/taosy/repo/github/oneDNN/scripts/verbose_converter/verbose_converter.py -i /tmp/gptj-prof_1.log  -g breakdown -k prim_kind  impl | column -t -s,"
   ]
  }
 ],
 "metadata": {
  "kernelspec": {
   "display_name": "pt-39-4",
   "language": "python",
   "name": "python3"
  },
  "language_info": {
   "codemirror_mode": {
    "name": "ipython",
    "version": 3
   },
   "file_extension": ".py",
   "mimetype": "text/x-python",
   "name": "python",
   "nbconvert_exporter": "python",
   "pygments_lexer": "ipython3",
   "version": "3.9.16"
  },
  "orig_nbformat": 4
 },
 "nbformat": 4,
 "nbformat_minor": 2
}
