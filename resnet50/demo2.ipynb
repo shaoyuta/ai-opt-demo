{
 "cells": [
  {
   "cell_type": "markdown",
   "metadata": {},
   "source": [
    "- onednn_verbose format\n",
    "```\n",
    "{\n",
    "  'engine': 'cpu'   \n",
    "  'prim_kind': 'convolution'   \n",
    "  'impl': 'brgconv:avx512_core'       \n",
    "  'prop_kind': 'forward_training'   \n",
    "  'mds': [\n",
    "    {'arg': 'src'   'data_type': 'f32'   'properties': ''   'format_kind': 'blocked'   'tag': 'acdb'   'strides': ''   'flags': {'value': 'f0'}}   \n",
    "    {'arg': 'wei'   'data_type': 'f32'            'properties': ''    'format_kind': 'blocked'   'tag': 'Acdb32a'   'strides': ''   'flags': {'value': 'f0'}}    \n",
    "    {'arg': 'bia'                         'data_type': 'f32'   'properties': ''          'format_kind': 'blocked'   'tag': 'a'   'strides': ''   'flags': {'value': 'f0'}}   \n",
    "    {'arg': 'dst'   'data_type': 'f32'   'properties': ''   'format_kind': 'blocked'   'tag': 'acdb'   'strides': ''   'flags': {'value': 'f0'}}\n",
    "  ]   \n",
    "  'exts': {\n",
    "    'attr-post-ops': \n",
    "      [{'alg': 'eltwise_relu'   'alpha': '1.0'     'beta': '0.0'      'scale': '1.0'}]\n",
    "      'attr-scratchpad': 'user'\n",
    "  }   \n",
    "  'aux': {'alg': 'convolution_direct'}   \n",
    "  'shapes': 'mb256_ic256oc512_ih14oh7kh3sh2dh0ph1_iw14ow7kw3sw2dw0pw1'      \n",
    "  'time': '11.6699\\n'\n",
    "}\n",
    "```  "
   ]
  },
  {
   "cell_type": "code",
   "execution_count": 1,
   "metadata": {},
   "outputs": [
    {
     "name": "stdout",
     "output_type": "stream",
     "text": [
      "Iteration: 19, inference time: 1.2717132568359375 sec.\n",
      " *   Acc@1 76.660 Acc@5 92.676\n",
      "inference latency: 4.243881 ms\n",
      "inference Throughput: 235.633353 images/s\n",
      "-------------------------------------------------------  ------------  ------------  ------------  ------------  ------------  ------------  \n",
      "                                                   Name    Self CPU %      Self CPU   CPU total %     CPU total  CPU time avg    # of Calls  \n",
      "-------------------------------------------------------  ------------  ------------  ------------  ------------  ------------  ------------  \n",
      "                               aten::mkldnn_convolution        53.07%        8.649s        53.15%        8.661s      21.653ms           400  \n",
      "                                aten::native_batch_norm        18.77%        3.060s        18.87%        3.074s       7.686ms           400  \n",
      "enumerate(DataLoader)#_MultiProcessingDataLoaderIter...        12.27%        2.000s        12.27%        2.000s      95.255ms            21  \n",
      "                          aten::max_pool2d_with_indices         5.25%     855.453ms         5.25%     855.453ms      42.773ms            20  \n",
      "                                       aten::max_pool2d         3.20%     521.074ms         8.45%        1.377s      68.826ms            20  \n",
      "                                       aten::clamp_min_         2.33%     379.609ms         2.33%     379.609ms       1.116ms           340  \n",
      "                                            aten::copy_         1.52%     248.345ms         1.52%     248.345ms       1.026ms           242  \n",
      "                                             aten::add_         1.42%     230.774ms         1.42%     230.774ms       1.166ms           198  \n",
      "                                     aten::_convolution         1.39%     225.857ms        56.11%        9.143s      22.858ms           400  \n",
      "                                torch_ipex::sum_out_cpu         0.19%      30.784ms         0.20%      32.335ms     538.917us            60  \n",
      "-------------------------------------------------------  ------------  ------------  ------------  ------------  ------------  ------------  \n",
      "Self CPU time total: 16.296s\n",
      "\n",
      "=============================================================\n",
      "\n",
      "prim_kind    impl                     ncalls  time(ms)  overall%  agg_ncalls(avg)  agg_time(ms)  agg_overall%\n",
      "convolution  brgconv:avx512_core      340     8216.09   96.08     340.00           8216.09       96.08\n",
      "convolution  brgconv_1x1:avx512_core  60      263.69    3.08      200.00           8479.78       99.17\n",
      "reorder      jit:uni                  400     71.37     0.83      266.67           8551.15       100.00\n"
     ]
    }
   ],
   "source": [
    "!ONEDNN_VERBOSE=1 python3 -W ignore chap05.py --data=/home/taosy/datasets/resnet50 --evaluate --pretrained --profile > /tmp/onednn-1.log  2>/dev/null\n",
    "!tail -n 20 /tmp/onednn-1.log\n",
    "!echo =============================================================\n",
    "!echo\n",
    "!/home/taosy/repo/github/oneDNN/scripts/verbose_converter/verbose_converter.py -i /tmp/onednn-1.log -g breakdown -k prim_kind  impl | column -t -s,"
   ]
  },
  {
   "cell_type": "code",
   "execution_count": 2,
   "metadata": {},
   "outputs": [
    {
     "name": "stdout",
     "output_type": "stream",
     "text": [
      "Iteration: 19, inference time: 0.7899577617645264 sec.\n",
      " *   Acc@1 76.660 Acc@5 92.676\n",
      "inference latency: 3.065839 ms\n",
      "inference Throughput: 326.175024 images/s\n",
      "-------------------------------------------------------  ------------  ------------  ------------  ------------  ------------  ------------  \n",
      "                                                   Name    Self CPU %      Self CPU   CPU total %     CPU total  CPU time avg    # of Calls  \n",
      "-------------------------------------------------------  ------------  ------------  ------------  ------------  ------------  ------------  \n",
      "                   torch_ipex::convolution_forward_impl        64.74%        8.645s        66.61%        8.896s      22.240ms           400  \n",
      "enumerate(DataLoader)#_MultiProcessingDataLoaderIter...        14.40%        1.923s        14.41%        1.924s      91.612ms            21  \n",
      "                                              aten::add         6.54%     872.948ms         6.54%     872.960ms       5.389ms           162  \n",
      "                          aten::max_pool2d_with_indices         4.91%     656.374ms         4.91%     656.374ms      32.819ms            20  \n",
      "                                       aten::max_pool2d         3.72%     497.192ms         8.64%        1.154s      57.678ms            20  \n",
      "                                       aten::clamp_min_         2.82%     376.584ms         2.82%     376.584ms       1.108ms           340  \n",
      "                                            aten::copy_         1.74%     232.392ms         1.74%     232.392ms       1.047ms           222  \n",
      "                                torch_ipex::sum_out_cpu         0.23%      30.533ms         0.24%      31.788ms     529.800us            60  \n",
      "                              torch_ipex::ipex_MKLSGEMM         0.17%      23.031ms         0.17%      23.309ms       1.165ms            20  \n",
      "                                     aten::_log_softmax         0.15%      19.433ms         0.15%      19.433ms     971.650us            20  \n",
      "-------------------------------------------------------  ------------  ------------  ------------  ------------  ------------  ------------  \n",
      "Self CPU time total: 13.355s\n",
      "\n",
      "=============================================================\n",
      "\n",
      "prim_kind    impl                     ncalls  time(ms)  overall%  agg_ncalls(avg)  agg_time(ms)  agg_overall%\n",
      "convolution  brgconv:avx512_core      320     6905.42   83.52     320.00           6905.42       83.52\n",
      "convolution  jit:avx512_core          20      1136.94   13.75     170.00           8042.36       97.27\n",
      "convolution  brgconv_1x1:avx512_core  60      218.93    2.65      133.33           8261.29       99.92\n",
      "reorder      jit:uni                  39      6.72      0.08      109.75           8268.01       100.00\n",
      "reorder      jit:blk                  1       0.21      0.00      88.00            8268.22       100.00\n"
     ]
    }
   ],
   "source": [
    "!ONEDNN_VERBOSE=1 python3 -W ignore chap05.py --data=/home/taosy/datasets/resnet50 --evaluate --pretrained --ipex --profile > /tmp/onednn-2.log  2>/dev/null\n",
    "!tail -n 20 /tmp/onednn-2.log\n",
    "!echo =============================================================\n",
    "!echo\n",
    "!/home/taosy/repo/github/oneDNN/scripts/verbose_converter/verbose_converter.py -i /tmp/onednn-2.log -g breakdown -k prim_kind  impl | column -t -s,"
   ]
  },
  {
   "cell_type": "code",
   "execution_count": 3,
   "metadata": {},
   "outputs": [
    {
     "name": "stdout",
     "output_type": "stream",
     "text": [
      "Iteration: 19, inference time: 0.5521194934844971 sec.\n",
      " *   Acc@1 76.660 Acc@5 92.676\n",
      "inference latency: 2.175135 ms\n",
      "inference Throughput: 459.741531 images/s\n",
      "-------------------------------------------------------  ------------  ------------  ------------  ------------  ------------  ------------  \n",
      "                                                   Name    Self CPU %      Self CPU   CPU total %     CPU total  CPU time avg    # of Calls  \n",
      "-------------------------------------------------------  ------------  ------------  ------------  ------------  ------------  ------------  \n",
      "                     ipex_prepack::convolution_relu_run        32.41%        4.361s        34.01%        4.575s      26.755ms           171  \n",
      "                 ipex_prepack::convolution_add_relu_run        23.36%        3.143s        23.36%        3.143s      20.679ms           152  \n",
      "                                                forward        17.22%        2.317s        83.62%       11.250s     562.500ms            20  \n",
      "enumerate(DataLoader)#_MultiProcessingDataLoaderIter...        16.04%        2.157s        16.04%        2.158s     102.775ms            21  \n",
      "                               aten::mkldnn_convolution         2.90%     390.012ms         2.90%     390.407ms      19.520ms            20  \n",
      "                                         dil_max_pool2d         1.92%     257.640ms         1.92%     258.203ms      13.590ms            19  \n",
      "                          ipex_prepack::convolution_run         1.81%     243.624ms         1.82%     244.994ms       4.298ms            57  \n",
      "                                            aten::copy_         1.68%     226.498ms         1.68%     226.498ms     935.942us           242  \n",
      "                                       aten::max_pool2d         0.58%      78.374ms         0.81%     108.728ms     108.728ms             1  \n",
      "                                     aten::_convolution         0.57%      76.544ms         3.56%     478.459ms      23.923ms            20  \n",
      "-------------------------------------------------------  ------------  ------------  ------------  ------------  ------------  ------------  \n",
      "Self CPU time total: 13.453s\n",
      "\n",
      "=============================================================\n",
      "\n",
      "prim_kind    impl                     ncalls  time(ms)  overall%  agg_ncalls(avg)  agg_time(ms)  agg_overall%\n",
      "convolution  brgconv:avx512_core      406     8406.59   83.17     406.00           8406.59       83.17\n",
      "convolution  jit:avx512_core          19      1090.36   10.79     212.50           9496.94       93.95\n",
      "convolution  brgconv_1x1:avx512_core  75      313.44    3.10      166.67           9810.38       97.05\n",
      "pooling      jit:avx512_core          19      251.65    2.49      129.75           10062.03      99.54\n",
      "reorder      jit:uni                  139     46.03     0.46      131.60           10108.06      100.00\n",
      "reorder      jit:blk                  1       0.19      0.00      109.83           10108.25      100.00\n"
     ]
    }
   ],
   "source": [
    "!ONEDNN_VERBOSE=1 python3 -W ignore chap05.py --data=/home/taosy/datasets/resnet50 --evaluate --pretrained --jit --profile > /tmp/onednn-3.log  2>/dev/null\n",
    "!tail -n 20 /tmp/onednn-3.log\n",
    "!echo =============================================================\n",
    "!echo\n",
    "!/home/taosy/repo/github/oneDNN/scripts/verbose_converter/verbose_converter.py -i /tmp/onednn-3.log -g breakdown -k prim_kind  impl | column -t -s,"
   ]
  }
 ],
 "metadata": {
  "kernelspec": {
   "display_name": "pt-39-2",
   "language": "python",
   "name": "python3"
  },
  "language_info": {
   "codemirror_mode": {
    "name": "ipython",
    "version": 3
   },
   "file_extension": ".py",
   "mimetype": "text/x-python",
   "name": "python",
   "nbconvert_exporter": "python",
   "pygments_lexer": "ipython3",
   "version": "3.9.16"
  },
  "orig_nbformat": 4
 },
 "nbformat": 4,
 "nbformat_minor": 2
}
