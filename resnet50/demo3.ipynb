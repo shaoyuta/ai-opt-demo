{
 "cells": [
  {
   "cell_type": "code",
   "execution_count": 3,
   "metadata": {},
   "outputs": [
    {
     "name": "stderr",
     "output_type": "stream",
     "text": [
      "STAGE:2023-08-13 21:31:14 1649545:1649545 ActivityProfilerController.cpp:312] Completed Stage: Warm Up\n",
      "STAGE:2023-08-13 21:31:15 1649545:1649545 ActivityProfilerController.cpp:318] Completed Stage: Collection\n",
      "STAGE:2023-08-13 21:31:15 1649545:1649545 ActivityProfilerController.cpp:322] Completed Stage: Post Processing\n"
     ]
    },
    {
     "name": "stdout",
     "output_type": "stream",
     "text": [
      "---------------------------------------------------  ------------  ------------  ------------  ------------  ------------  ------------  \n",
      "                                               Name    Self CPU %      Self CPU   CPU total %     CPU total  CPU time avg    # of Calls  \n",
      "---------------------------------------------------  ------------  ------------  ------------  ------------  ------------  ------------  \n",
      "                                            forward         1.53%      12.419ms        99.65%     806.772ms      26.892ms            30  \n",
      "             ipex_prepack::convolution_add_relu_run        45.41%     367.687ms        45.41%     367.687ms       1.585ms           232  \n",
      "                 ipex_prepack::convolution_relu_run        35.60%     288.221ms        35.76%     289.548ms       1.109ms           261  \n",
      "                                     dil_max_pool2d         6.08%      49.216ms         6.20%      50.196ms       1.731ms            29  \n",
      "                      ipex_prepack::convolution_run         5.53%      44.794ms         5.61%      45.453ms     522.448us            87  \n",
      "                                 aten::_convolution         0.03%     217.000us         2.80%      22.700ms       1.135ms            20  \n",
      "                           aten::mkldnn_convolution         2.76%      22.342ms         2.78%      22.483ms       1.124ms            20  \n",
      "                          aten::adaptive_avg_pool2d         0.06%     464.000us         1.35%      10.893ms     363.100us            30  \n",
      "                                         aten::mean        -0.05%    -401.000us         1.29%      10.429ms     347.633us            30  \n",
      "                                          aten::sum         0.11%     898.000us         1.00%       8.086ms     269.533us            30  \n",
      "---------------------------------------------------  ------------  ------------  ------------  ------------  ------------  ------------  \n",
      "Self CPU time total: 809.639ms\n",
      "\n",
      "=======================================\n",
      "\n"
     ]
    },
    {
     "name": "stderr",
     "output_type": "stream",
     "text": [
      "STAGE:2023-08-13 21:31:16 1649545:1649545 ActivityProfilerController.cpp:312] Completed Stage: Warm Up\n",
      "STAGE:2023-08-13 21:31:17 1649545:1649545 ActivityProfilerController.cpp:318] Completed Stage: Collection\n",
      "STAGE:2023-08-13 21:31:17 1649545:1649545 ActivityProfilerController.cpp:322] Completed Stage: Post Processing\n"
     ]
    },
    {
     "name": "stdout",
     "output_type": "stream",
     "text": [
      "---------------------------------------------------  ------------  ------------  ------------  ------------  ------------  ------------  \n",
      "                                               Name    Self CPU %      Self CPU   CPU total %     CPU total  CPU time avg    # of Calls  \n",
      "---------------------------------------------------  ------------  ------------  ------------  ------------  ------------  ------------  \n",
      "                                            forward         1.52%      11.727ms        99.56%     766.032ms      25.534ms            30  \n",
      "             ipex_prepack::convolution_add_relu_run        47.23%     363.385ms        47.23%     363.385ms       1.566ms           232  \n",
      "                 ipex_prepack::convolution_relu_run        34.92%     268.682ms        35.08%     269.888ms       1.034ms           261  \n",
      "                                     dil_max_pool2d         5.34%      41.065ms         5.46%      42.003ms       1.448ms            29  \n",
      "                      ipex_prepack::convolution_run         5.37%      41.329ms         5.44%      41.879ms     481.368us            87  \n",
      "                                 aten::_convolution         0.02%     187.000us         2.48%      19.070ms     953.500us            20  \n",
      "                           aten::mkldnn_convolution         2.44%      18.764ms         2.45%      18.883ms     944.150us            20  \n",
      "                          aten::adaptive_avg_pool2d         0.05%     366.000us         1.37%      10.510ms     350.333us            30  \n",
      "                                         aten::mean         0.05%     383.000us         1.31%      10.089ms     336.300us            30  \n",
      "                                          aten::sum         0.01%     107.000us         1.04%       8.015ms     267.167us            30  \n",
      "---------------------------------------------------  ------------  ------------  ------------  ------------  ------------  ------------  \n",
      "Self CPU time total: 769.419ms\n",
      "\n"
     ]
    }
   ],
   "source": [
    "import torch\n",
    "import torchvision.models as models\n",
    "from torch.profiler import profile, record_function, ProfilerActivity\n",
    "\n",
    "def ipex_jit_test():\n",
    "    model = models.resnet18()\n",
    "    inputs = torch.randn(5, 3, 224, 224)\n",
    "    model.eval()\n",
    "    model = torch.jit.trace(model, torch.randn(5, 3, 224, 224))\n",
    "    model = torch.jit.freeze(model)\n",
    "\n",
    "    def foo(inputs, p=None):\n",
    "        for i in range(30):\n",
    "            model(inputs)\n",
    "\n",
    "    with torch.profiler.profile(\n",
    "                activities=[torch.profiler.ProfilerActivity.CPU],\n",
    "                record_shapes=True,\n",
    "            ) as p:\n",
    "        foo(inputs, p=p)\n",
    "    print(p.key_averages().table(sort_by=\"cpu_time_total\", row_limit=10))\n",
    "\n",
    "ipex_jit_test()\n",
    "print(\"=======================================\\n\")\n",
    "import intel_extension_for_pytorch as ipex\n",
    "ipex_jit_test()"
   ]
  }
 ],
 "metadata": {
  "kernelspec": {
   "display_name": "pt-39-2",
   "language": "python",
   "name": "python3"
  },
  "language_info": {
   "codemirror_mode": {
    "name": "ipython",
    "version": 3
   },
   "file_extension": ".py",
   "mimetype": "text/x-python",
   "name": "python",
   "nbconvert_exporter": "python",
   "pygments_lexer": "ipython3",
   "version": "3.9.16"
  },
  "orig_nbformat": 4
 },
 "nbformat": 4,
 "nbformat_minor": 2
}
