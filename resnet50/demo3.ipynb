{
 "cells": [
  {
   "cell_type": "code",
   "execution_count": 1,
   "metadata": {},
   "outputs": [
    {
     "name": "stderr",
     "output_type": "stream",
     "text": [
      "/home/taosy/repo/pytorch/vision/torchvision/io/image.py:13: UserWarning: Failed to load image Python extension: ''If you don't plan on using image functionality from `torchvision.io`, you can ignore this warning. Otherwise, there might be something wrong with your environment. Did you have `libjpeg` or `libpng` installed before building `torchvision` from source?\n",
      "  warn(\n",
      "STAGE:2023-08-14 21:10:59 2340048:2340048 ActivityProfilerController.cpp:312] Completed Stage: Warm Up\n",
      "STAGE:2023-08-14 21:11:00 2340048:2340048 ActivityProfilerController.cpp:318] Completed Stage: Collection\n",
      "STAGE:2023-08-14 21:11:00 2340048:2340048 ActivityProfilerController.cpp:322] Completed Stage: Post Processing\n"
     ]
    },
    {
     "name": "stdout",
     "output_type": "stream",
     "text": [
      "---------------------------------  ------------  ------------  ------------  ------------  ------------  ------------  \n",
      "                             Name    Self CPU %      Self CPU   CPU total %     CPU total  CPU time avg    # of Calls  \n",
      "---------------------------------  ------------  ------------  ------------  ------------  ------------  ------------  \n",
      "                          forward         0.85%       6.027ms        99.53%     703.956ms      23.465ms            30  \n",
      "               aten::_convolution         1.15%       8.145ms        84.74%     599.341ms     998.902us           600  \n",
      "         aten::mkldnn_convolution        82.73%     585.091ms        83.59%     591.196ms     985.327us           600  \n",
      "                 aten::max_pool2d         0.05%     321.000us         6.45%      45.599ms       1.520ms            30  \n",
      "    aten::max_pool2d_with_indices         6.40%      45.278ms         6.40%      45.278ms       1.509ms            30  \n",
      "                      aten::relu_         0.31%       2.187ms         3.61%      25.516ms      50.031us           510  \n",
      "                 aten::clamp_min_         3.30%      23.368ms         3.30%      23.368ms      45.820us           510  \n",
      "                       aten::add_         2.56%      18.105ms         2.56%      18.105ms      75.438us           240  \n",
      "        aten::adaptive_avg_pool2d         0.04%     263.000us         0.65%       4.592ms     153.067us            30  \n",
      "                       aten::mean         0.10%     720.000us         0.61%       4.329ms     144.300us            30  \n",
      "---------------------------------  ------------  ------------  ------------  ------------  ------------  ------------  \n",
      "Self CPU time total: 707.258ms\n",
      "\n",
      "=======================================\n",
      "\n"
     ]
    },
    {
     "name": "stderr",
     "output_type": "stream",
     "text": [
      "[W OperatorEntry.cpp:153] Warning: Warning only once for all operators,  other operators may also be overrided.\n",
      "  Overriding a previously registered kernel for the same operator and the same dispatch key\n",
      "  operator: aten::conv1d(Tensor input, Tensor weight, Tensor? bias=None, int[1] stride=[1], SymInt[1] padding=[0], int[1] dilation=[1], int groups=1) -> Tensor\n",
      "    registered at /opt/conda/conda-bld/pytorch_1686640406433/work/build/aten/src/ATen/RegisterSchema.cpp:6\n",
      "  dispatch key: AutocastCPU\n",
      "  previous kernel: registered at /opt/conda/conda-bld/pytorch_1686640406433/work/aten/src/ATen/autocast_mode.cpp:216\n",
      "       new kernel: registered at /home/taosy/repo/intel/frameworks.ai.pytorch.ipex-cpu/csrc/cpu/autocast/autocast_mode.cpp:164 (function operator())\n",
      "STAGE:2023-08-14 21:11:02 2340048:2340048 ActivityProfilerController.cpp:312] Completed Stage: Warm Up\n",
      "STAGE:2023-08-14 21:11:02 2340048:2340048 ActivityProfilerController.cpp:318] Completed Stage: Collection\n",
      "STAGE:2023-08-14 21:11:02 2340048:2340048 ActivityProfilerController.cpp:322] Completed Stage: Post Processing\n"
     ]
    },
    {
     "name": "stdout",
     "output_type": "stream",
     "text": [
      "---------------------------------------------------  ------------  ------------  ------------  ------------  ------------  ------------  \n",
      "                                               Name    Self CPU %      Self CPU   CPU total %     CPU total  CPU time avg    # of Calls  \n",
      "---------------------------------------------------  ------------  ------------  ------------  ------------  ------------  ------------  \n",
      "                                            forward         1.21%       8.161ms        99.17%     667.386ms      22.246ms            30  \n",
      "             ipex_prepack::convolution_add_relu_run        50.90%     342.533ms        50.90%     342.533ms       1.476ms           232  \n",
      "                 ipex_prepack::convolution_relu_run        33.13%     222.940ms        33.24%     223.707ms     857.115us           261  \n",
      "                                     dil_max_pool2d         4.79%      32.256ms         4.88%      32.849ms       1.133ms            29  \n",
      "                      ipex_prepack::convolution_run         4.79%      32.223ms         4.83%      32.527ms     373.874us            87  \n",
      "                                 aten::_convolution         0.02%     154.000us         2.10%      14.117ms     705.850us            20  \n",
      "                           aten::mkldnn_convolution         2.06%      13.878ms         2.07%      13.963ms     698.150us            20  \n",
      "                          aten::adaptive_avg_pool2d         0.03%     208.000us         1.22%       8.227ms     274.233us            30  \n",
      "                                         aten::mean         0.03%     230.000us         1.18%       7.921ms     264.033us            30  \n",
      "                                          aten::sum         0.04%     286.000us         0.95%       6.383ms     212.767us            30  \n",
      "---------------------------------------------------  ------------  ------------  ------------  ------------  ------------  ------------  \n",
      "Self CPU time total: 672.968ms\n",
      "\n"
     ]
    }
   ],
   "source": [
    "import torch\n",
    "import torchvision.models as models\n",
    "from torch.profiler import profile, record_function, ProfilerActivity\n",
    "\n",
    "def ipex_jit_test():\n",
    "    model = models.resnet18()\n",
    "    inputs = torch.randn(5, 3, 224, 224)\n",
    "    model.eval()\n",
    "    model = torch.jit.trace(model, torch.randn(5, 3, 224, 224))\n",
    "    model = torch.jit.freeze(model)\n",
    "\n",
    "    def foo(inputs, p=None):\n",
    "        for i in range(30):\n",
    "            model(inputs)\n",
    "\n",
    "    with torch.profiler.profile(\n",
    "                activities=[torch.profiler.ProfilerActivity.CPU],\n",
    "                record_shapes=True,\n",
    "            ) as p:\n",
    "        foo(inputs, p=p)\n",
    "    print(p.key_averages().table(sort_by=\"cpu_time_total\", row_limit=10))\n",
    "\n",
    "ipex_jit_test()\n",
    "print(\"=======================================\\n\")\n",
    "import intel_extension_for_pytorch as ipex\n",
    "ipex_jit_test()"
   ]
  }
 ],
 "metadata": {
  "kernelspec": {
   "display_name": "pt-39-2",
   "language": "python",
   "name": "python3"
  },
  "language_info": {
   "codemirror_mode": {
    "name": "ipython",
    "version": 3
   },
   "file_extension": ".py",
   "mimetype": "text/x-python",
   "name": "python",
   "nbconvert_exporter": "python",
   "pygments_lexer": "ipython3",
   "version": "3.9.16"
  },
  "orig_nbformat": 4
 },
 "nbformat": 4,
 "nbformat_minor": 2
}
